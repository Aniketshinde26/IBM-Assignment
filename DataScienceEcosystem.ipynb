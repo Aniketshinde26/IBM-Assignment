{
 "cells": [
  {
   "cell_type": "markdown",
   "id": "0124dabe-7e36-4e05-a54c-33fc1951609a",
   "metadata": {},
   "source": [
    "# Data Science Tools and Ecosystem\n"
   ]
  },
  {
   "cell_type": "markdown",
   "id": "9dcbeefc-49fc-4577-9776-1b0850eb258f",
   "metadata": {},
   "source": [
    "### In this notebook Data Science Tools and Ecosystem are summarized."
   ]
  },
  {
   "cell_type": "markdown",
   "id": "c57d88e0-efac-440b-b2e1-4c1a56abecce",
   "metadata": {},
   "source": [
    "## Some of the popular languages that Data Scientists use are:\n",
    "#### 1.Python\n",
    "#### 2.SQL\n",
    "#### 3.R\n",
    "#### 4.Julia"
   ]
  },
  {
   "cell_type": "markdown",
   "id": "8ff150c8-5730-49ee-a6f4-a2653ad6e941",
   "metadata": {},
   "source": [
    "### Some of the commonly used libraries used by Data Scientists include:\n",
    "\n",
    " 1. Numpy\n",
    " 2. SciPy\n",
    " 3. Scikit-learn\n",
    " 4. TensorFlow"
   ]
  },
  {
   "cell_type": "markdown",
   "id": "dc86bf9e-4a62-4e63-bc67-5a3057f433e2",
   "metadata": {},
   "source": [
    "###\n",
    "|Data Science Tools|\n",
    "|:----------------:|\n",
    "|TensorFlow        |\n",
    "|Apache Spark      |\n",
    "|RStudio           |"
   ]
  },
  {
   "cell_type": "markdown",
   "id": "e5e4ae05-c74e-4143-95e2-cef8df2a1536",
   "metadata": {},
   "source": [
    "### Below are a few examples of evaluating arithmetic expression in Python\n",
    "\n",
    "#### 3*4\n",
    "#### 1+2\n",
    "#### 4/2"
   ]
  },
  {
   "cell_type": "code",
   "execution_count": 3,
   "id": "7b56843f-2340-415a-986f-0962e1f9e6b0",
   "metadata": {
    "tags": []
   },
   "outputs": [
    {
     "name": "stdout",
     "output_type": "stream",
     "text": [
      "17\n"
     ]
    }
   ],
   "source": [
    "#This is a simple arithmetic expression to multiply then add integers\n",
    "\n",
    "z=(3*4)+5\n",
    "print(z)"
   ]
  },
  {
   "cell_type": "code",
   "execution_count": 4,
   "id": "74791923-8b37-483b-9b14-f9261d5abdb0",
   "metadata": {
    "tags": []
   },
   "outputs": [
    {
     "name": "stdout",
     "output_type": "stream",
     "text": [
      "200 minutes in hours is: 3.3333333333333335 hours\n"
     ]
    }
   ],
   "source": [
    "# This code will convert 200 minutes to hours by divding by 200\n",
    "a=(200/60)\n",
    "print(\"200 minutes in hours is:\",a,\"hours\")"
   ]
  },
  {
   "cell_type": "markdown",
   "id": "bc71fa91-2378-4a13-a1a5-1ffc4d855fcf",
   "metadata": {},
   "source": [
    "**Objectives:**\n",
    "* Python\n",
    "* SQL\n",
    "* R\n",
    "* Julia\n",
    "* Apache Spark"
   ]
  },
  {
   "cell_type": "markdown",
   "id": "1531d7b1-c5b5-4f7c-8e69-d6e1b0c1370e",
   "metadata": {},
   "source": [
    "## Author\n",
    " Aniket"
   ]
  },
  {
   "cell_type": "code",
   "execution_count": null,
   "id": "a2c9963f-4303-45fd-b3e1-236d8e7f64cf",
   "metadata": {},
   "outputs": [],
   "source": []
  }
 ],
 "metadata": {
  "kernelspec": {
   "display_name": "Python",
   "language": "python",
   "name": "conda-env-python-py"
  },
  "language_info": {
   "codemirror_mode": {
    "name": "ipython",
    "version": 3
   },
   "file_extension": ".py",
   "mimetype": "text/x-python",
   "name": "python",
   "nbconvert_exporter": "python",
   "pygments_lexer": "ipython3",
   "version": "3.7.12"
  }
 },
 "nbformat": 4,
 "nbformat_minor": 5
}
